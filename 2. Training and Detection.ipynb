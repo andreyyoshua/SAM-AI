{
 "cells": [
  {
   "cell_type": "markdown",
   "metadata": {
    "id": "QUANWN3rpfC9"
   },
   "source": [
    "# 0. Setup Paths"
   ]
  },
  {
   "cell_type": "code",
   "execution_count": null,
   "metadata": {
    "id": "146BB11JpfDA"
   },
   "outputs": [],
   "source": [
    "import os"
   ]
  },
  {
   "cell_type": "code",
   "execution_count": null,
   "metadata": {
    "id": "42hJEdo_pfDB"
   },
   "outputs": [],
   "source": [
    "# CUSTOM_MODEL_NAME = 'my_efficientdet' \n",
    "# PRETRAINED_MODEL_NAME = 'efficientdet_d0_coco17_tpu-32'\n",
    "# PRETRAINED_MODEL_URL = 'http://download.tensorflow.org/models/object_detection/tf2/20200711/efficientdet_d1_coco17_tpu-32.tar.gz'\n",
    "# TF_RECORD_SCRIPT_NAME = 'generate_tfrecord.py'\n",
    "# LABEL_MAP_NAME = 'label_map.pbtxt'\n",
    "\n",
    "# CUSTOM_MODEL_NAME = 'my_ssd_mobnet' \n",
    "# PRETRAINED_MODEL_NAME = 'ssd_mobilenet_v2_fpnlite_320x320_coco17_tpu-8'\n",
    "# PRETRAINED_MODEL_URL = 'http://download.tensorflow.org/models/object_detection/tf2/20200711/ssd_mobilenet_v2_fpnlite_320x320_coco17_tpu-8.tar.gz'\n",
    "# TF_RECORD_SCRIPT_NAME = 'generate_tfrecord.py'\n",
    "# LABEL_MAP_NAME = 'label_map.pbtxt'\n",
    "\n",
    "CUSTOM_MODEL_NAME = 'my_ssd_resnet' \n",
    "PRETRAINED_MODEL_NAME = 'ssd_resnet101_v1_fpn_640x640_coco17_tpu-8'\n",
    "PRETRAINED_MODEL_URL = 'http://download.tensorflow.org/models/object_detection/tf2/20200711/ssd_resnet101_v1_fpn_640x640_coco17_tpu-8.tar.gz'\n",
    "TF_RECORD_SCRIPT_NAME = 'generate_tfrecord.py'\n",
    "LABEL_MAP_NAME = 'label_map.pbtxt'"
   ]
  },
  {
   "cell_type": "code",
   "execution_count": null,
   "metadata": {
    "id": "hbPhYVy_pfDB"
   },
   "outputs": [],
   "source": [
    "paths = {\n",
    "    'WORKSPACE_PATH': os.path.join('Tensorflow', 'workspace'),\n",
    "    'SCRIPTS_PATH': os.path.join('Tensorflow','scripts'),\n",
    "    'APIMODEL_PATH': os.path.join('Tensorflow','models'),\n",
    "    'ANNOTATION_PATH': os.path.join('Tensorflow', 'workspace','annotations'),\n",
    "    'IMAGE_PATH': os.path.join('Tensorflow', 'workspace','images'),\n",
    "    'MODEL_PATH': os.path.join('Tensorflow', 'workspace','models'),\n",
    "    'TFLITE_MODEL_PATH': os.path.join('Tensorflow', 'workspace','models',CUSTOM_MODEL_NAME, 'tfliteexport', 'saved_model', 'detect.tflite'), \n",
    "    'TFLITE_MODEL_LABEL_PATH': os.path.join('Tensorflow', 'workspace','models',CUSTOM_MODEL_NAME, 'tfliteexport', 'saved_model', 'label_map.txt'), \n",
    "    'PRETRAINED_MODEL_PATH': os.path.join('Tensorflow', 'workspace','pre-trained-models'),\n",
    "    'CHECKPOINT_PATH': os.path.join('Tensorflow', 'workspace','models',CUSTOM_MODEL_NAME), \n",
    "    'OUTPUT_PATH': os.path.join('Tensorflow', 'workspace','models',CUSTOM_MODEL_NAME, 'export'), \n",
    "    'OUTPUT_PATH_TFLITE': os.path.join('Tensorflow', 'workspace','models',CUSTOM_MODEL_NAME, 'export-tflite'), \n",
    "    'TFJS_PATH':os.path.join('Tensorflow', 'workspace','models',CUSTOM_MODEL_NAME, 'tfjsexport'), \n",
    "    'TFLITE_PATH':os.path.join('Tensorflow', 'workspace','models',CUSTOM_MODEL_NAME, 'tfliteexport'), \n",
    "    'PROTOC_PATH':os.path.join('Tensorflow','protoc')\n",
    " }"
   ]
  },
  {
   "cell_type": "code",
   "execution_count": null,
   "metadata": {
    "id": "LwhWZMI0pfDC"
   },
   "outputs": [],
   "source": [
    "files = {\n",
    "    'PIPELINE_CONFIG':os.path.join('Tensorflow', 'workspace','models', CUSTOM_MODEL_NAME, 'pipeline.config'),\n",
    "    'TF_RECORD_SCRIPT': os.path.join(paths['SCRIPTS_PATH'], TF_RECORD_SCRIPT_NAME), \n",
    "    'LABELMAP': os.path.join(paths['ANNOTATION_PATH'], LABEL_MAP_NAME)\n",
    "}"
   ]
  },
  {
   "cell_type": "code",
   "execution_count": null,
   "metadata": {
    "id": "HR-TfDGrpfDC"
   },
   "outputs": [],
   "source": [
    "for path in paths.values():\n",
    "    if not os.path.exists(path):\n",
    "        if os.name == 'posix':\n",
    "            !mkdir -p {path}\n",
    "        if os.name == 'nt':\n",
    "            !mkdir {path}"
   ]
  },
  {
   "cell_type": "markdown",
   "metadata": {},
   "source": [
    "# Rotating images"
   ]
  },
  {
   "cell_type": "code",
   "execution_count": 219,
   "metadata": {},
   "outputs": [
    {
     "name": "stdout",
     "output_type": "stream",
     "text": [
      "Tensorflow/workspace/images/train/IMG_20220202_112552.jpg into Tensorflow/workspace/images/train/IMG_20220202_112552_rotated90.jpg\n",
      "Tensorflow/workspace/images/train/IMG_20220202_112552.jpg into Tensorflow/workspace/images/train/IMG_20220202_112552_rotated180.jpg\n",
      "Tensorflow/workspace/images/train/IMG_20220202_112552.jpg into Tensorflow/workspace/images/train/IMG_20220202_112552_rotated270.jpg\n",
      "Tensorflow/workspace/images/train/Garuda Rosta Kacang Oven Rs Bawang -100g.jpg into Tensorflow/workspace/images/train/Garuda Rosta Kacang Oven Rs Bawang -100g_rotated90.jpg\n",
      "Tensorflow/workspace/images/train/Garuda Rosta Kacang Oven Rs Bawang -100g.jpg into Tensorflow/workspace/images/train/Garuda Rosta Kacang Oven Rs Bawang -100g_rotated180.jpg\n",
      "Tensorflow/workspace/images/train/Garuda Rosta Kacang Oven Rs Bawang -100g.jpg into Tensorflow/workspace/images/train/Garuda Rosta Kacang Oven Rs Bawang -100g_rotated270.jpg\n",
      "Tensorflow/workspace/images/train/Gery Saluut Malkist Kelapa Family Pack -105g.jpg into Tensorflow/workspace/images/train/Gery Saluut Malkist Kelapa Family Pack -105g_rotated90.jpg\n",
      "Tensorflow/workspace/images/train/Gery Saluut Malkist Kelapa Family Pack -105g.jpg into Tensorflow/workspace/images/train/Gery Saluut Malkist Kelapa Family Pack -105g_rotated180.jpg\n",
      "Tensorflow/workspace/images/train/Gery Saluut Malkist Kelapa Family Pack -105g.jpg into Tensorflow/workspace/images/train/Gery Saluut Malkist Kelapa Family Pack -105g_rotated270.jpg\n",
      "Tensorflow/workspace/images/train/20211210_152839.jpg into Tensorflow/workspace/images/train/20211210_152839_rotated90.jpg\n",
      "Tensorflow/workspace/images/train/20211210_152839.jpg into Tensorflow/workspace/images/train/20211210_152839_rotated180.jpg\n",
      "Tensorflow/workspace/images/train/20211210_152839.jpg into Tensorflow/workspace/images/train/20211210_152839_rotated270.jpg\n",
      "Tensorflow/workspace/images/train/20211222_112411.jpg into Tensorflow/workspace/images/train/20211222_112411_rotated90.jpg\n",
      "Tensorflow/workspace/images/train/20211222_112411.jpg into Tensorflow/workspace/images/train/20211222_112411_rotated180.jpg\n",
      "Tensorflow/workspace/images/train/20211222_112411.jpg into Tensorflow/workspace/images/train/20211222_112411_rotated270.jpg\n",
      "Tensorflow/workspace/images/train/Garuda Kacang Kulit Premium -155g .jpg into Tensorflow/workspace/images/train/Garuda Kacang Kulit Premium -155g _rotated90.jpg\n",
      "Tensorflow/workspace/images/train/Garuda Kacang Kulit Premium -155g .jpg into Tensorflow/workspace/images/train/Garuda Kacang Kulit Premium -155g _rotated180.jpg\n",
      "Tensorflow/workspace/images/train/Garuda Kacang Kulit Premium -155g .jpg into Tensorflow/workspace/images/train/Garuda Kacang Kulit Premium -155g _rotated270.jpg\n",
      "Tensorflow/workspace/images/train/20211204_174056.jpg into Tensorflow/workspace/images/train/20211204_174056_rotated90.jpg\n",
      "Tensorflow/workspace/images/train/20211204_174056.jpg into Tensorflow/workspace/images/train/20211204_174056_rotated180.jpg\n",
      "Tensorflow/workspace/images/train/20211204_174056.jpg into Tensorflow/workspace/images/train/20211204_174056_rotated270.jpg\n",
      "Tensorflow/workspace/images/train/20220120_141822.jpg into Tensorflow/workspace/images/train/20220120_141822_rotated90.jpg\n",
      "Tensorflow/workspace/images/train/20220120_141822.jpg into Tensorflow/workspace/images/train/20220120_141822_rotated180.jpg\n",
      "Tensorflow/workspace/images/train/20220120_141822.jpg into Tensorflow/workspace/images/train/20220120_141822_rotated270.jpg\n",
      "Tensorflow/workspace/images/train/IMG_20220202_112645.jpg into Tensorflow/workspace/images/train/IMG_20220202_112645_rotated90.jpg\n",
      "Tensorflow/workspace/images/train/IMG_20220202_112645.jpg into Tensorflow/workspace/images/train/IMG_20220202_112645_rotated180.jpg\n",
      "Tensorflow/workspace/images/train/IMG_20220202_112645.jpg into Tensorflow/workspace/images/train/IMG_20220202_112645_rotated270.jpg\n",
      "Tensorflow/workspace/images/train/IMG_20220202_112721.jpg into Tensorflow/workspace/images/train/IMG_20220202_112721_rotated90.jpg\n",
      "Tensorflow/workspace/images/train/IMG_20220202_112721.jpg into Tensorflow/workspace/images/train/IMG_20220202_112721_rotated180.jpg\n",
      "Tensorflow/workspace/images/train/IMG_20220202_112721.jpg into Tensorflow/workspace/images/train/IMG_20220202_112721_rotated270.jpg\n",
      "Tensorflow/workspace/images/train/20211214_131039.jpg into Tensorflow/workspace/images/train/20211214_131039_rotated90.jpg\n",
      "Tensorflow/workspace/images/train/20211214_131039.jpg into Tensorflow/workspace/images/train/20211214_131039_rotated180.jpg\n",
      "Tensorflow/workspace/images/train/20211214_131039.jpg into Tensorflow/workspace/images/train/20211214_131039_rotated270.jpg\n",
      "Tensorflow/workspace/images/train/20220112_142443.jpg into Tensorflow/workspace/images/train/20220112_142443_rotated90.jpg\n",
      "Tensorflow/workspace/images/train/20220112_142443.jpg into Tensorflow/workspace/images/train/20220112_142443_rotated180.jpg\n",
      "Tensorflow/workspace/images/train/20220112_142443.jpg into Tensorflow/workspace/images/train/20220112_142443_rotated270.jpg\n",
      "Tensorflow/workspace/images/train/20220114_112137.jpg into Tensorflow/workspace/images/train/20220114_112137_rotated90.jpg\n",
      "Tensorflow/workspace/images/train/20220114_112137.jpg into Tensorflow/workspace/images/train/20220114_112137_rotated180.jpg\n",
      "Tensorflow/workspace/images/train/20220114_112137.jpg into Tensorflow/workspace/images/train/20220114_112137_rotated270.jpg\n",
      "Tensorflow/workspace/images/train/20211210_130341.jpg into Tensorflow/workspace/images/train/20211210_130341_rotated90.jpg\n",
      "Tensorflow/workspace/images/train/20211210_130341.jpg into Tensorflow/workspace/images/train/20211210_130341_rotated180.jpg\n",
      "Tensorflow/workspace/images/train/20211210_130341.jpg into Tensorflow/workspace/images/train/20211210_130341_rotated270.jpg\n",
      "Tensorflow/workspace/images/train/Garuda Atom Original - 115 g + 23 g.jpg into Tensorflow/workspace/images/train/Garuda Atom Original - 115 g + 23 g_rotated90.jpg\n",
      "Tensorflow/workspace/images/train/Garuda Atom Original - 115 g + 23 g.jpg into Tensorflow/workspace/images/train/Garuda Atom Original - 115 g + 23 g_rotated180.jpg\n",
      "Tensorflow/workspace/images/train/Garuda Atom Original - 115 g + 23 g.jpg into Tensorflow/workspace/images/train/Garuda Atom Original - 115 g + 23 g_rotated270.jpg\n",
      "Tensorflow/workspace/images/train/Garuda pilus mie goreng, 80 +16g.jpg into Tensorflow/workspace/images/train/Garuda pilus mie goreng, 80 +16g_rotated90.jpg\n",
      "Tensorflow/workspace/images/train/Garuda pilus mie goreng, 80 +16g.jpg into Tensorflow/workspace/images/train/Garuda pilus mie goreng, 80 +16g_rotated180.jpg\n",
      "Tensorflow/workspace/images/train/Garuda pilus mie goreng, 80 +16g.jpg into Tensorflow/workspace/images/train/Garuda pilus mie goreng, 80 +16g_rotated270.jpg\n",
      "Tensorflow/workspace/images/train/20211210_131314.jpg into Tensorflow/workspace/images/train/20211210_131314_rotated90.jpg\n",
      "Tensorflow/workspace/images/train/20211210_131314.jpg into Tensorflow/workspace/images/train/20211210_131314_rotated180.jpg\n",
      "Tensorflow/workspace/images/train/20211210_131314.jpg into Tensorflow/workspace/images/train/20211210_131314_rotated270.jpg\n",
      "Tensorflow/workspace/images/train/IMG_20220202_120945.jpg into Tensorflow/workspace/images/train/IMG_20220202_120945_rotated90.jpg\n",
      "Tensorflow/workspace/images/train/IMG_20220202_120945.jpg into Tensorflow/workspace/images/train/IMG_20220202_120945_rotated180.jpg\n",
      "Tensorflow/workspace/images/train/IMG_20220202_120945.jpg into Tensorflow/workspace/images/train/IMG_20220202_120945_rotated270.jpg\n",
      "Tensorflow/workspace/images/train/20211214_130840.jpg into Tensorflow/workspace/images/train/20211214_130840_rotated90.jpg\n",
      "Tensorflow/workspace/images/train/20211214_130840.jpg into Tensorflow/workspace/images/train/20211214_130840_rotated180.jpg\n",
      "Tensorflow/workspace/images/train/20211214_130840.jpg into Tensorflow/workspace/images/train/20211214_130840_rotated270.jpg\n",
      "Tensorflow/workspace/images/train/Garuda Pilus Rasa Pedas.jpg into Tensorflow/workspace/images/train/Garuda Pilus Rasa Pedas_rotated90.jpg\n",
      "Tensorflow/workspace/images/train/Garuda Pilus Rasa Pedas.jpg into Tensorflow/workspace/images/train/Garuda Pilus Rasa Pedas_rotated180.jpg\n",
      "Tensorflow/workspace/images/train/Garuda Pilus Rasa Pedas.jpg into Tensorflow/workspace/images/train/Garuda Pilus Rasa Pedas_rotated270.jpg\n",
      "Tensorflow/workspace/images/train/IMG_20220202_121043.jpg into Tensorflow/workspace/images/train/IMG_20220202_121043_rotated90.jpg\n"
     ]
    },
    {
     "name": "stdout",
     "output_type": "stream",
     "text": [
      "Tensorflow/workspace/images/train/IMG_20220202_121043.jpg into Tensorflow/workspace/images/train/IMG_20220202_121043_rotated180.jpg\n",
      "Tensorflow/workspace/images/train/IMG_20220202_121043.jpg into Tensorflow/workspace/images/train/IMG_20220202_121043_rotated270.jpg\n",
      "Tensorflow/workspace/images/train/IMG_20220202_120957.jpg into Tensorflow/workspace/images/train/IMG_20220202_120957_rotated90.jpg\n",
      "Tensorflow/workspace/images/train/IMG_20220202_120957.jpg into Tensorflow/workspace/images/train/IMG_20220202_120957_rotated180.jpg\n",
      "Tensorflow/workspace/images/train/IMG_20220202_120957.jpg into Tensorflow/workspace/images/train/IMG_20220202_120957_rotated270.jpg\n",
      "Tensorflow/workspace/images/train/IMG_20220202_112703.jpg into Tensorflow/workspace/images/train/IMG_20220202_112703_rotated90.jpg\n",
      "Tensorflow/workspace/images/train/IMG_20220202_112703.jpg into Tensorflow/workspace/images/train/IMG_20220202_112703_rotated180.jpg\n",
      "Tensorflow/workspace/images/train/IMG_20220202_112703.jpg into Tensorflow/workspace/images/train/IMG_20220202_112703_rotated270.jpg\n",
      "Tensorflow/workspace/images/train/IMG_20220202_121054.jpg into Tensorflow/workspace/images/train/IMG_20220202_121054_rotated90.jpg\n",
      "Tensorflow/workspace/images/train/IMG_20220202_121054.jpg into Tensorflow/workspace/images/train/IMG_20220202_121054_rotated180.jpg\n",
      "Tensorflow/workspace/images/train/IMG_20220202_121054.jpg into Tensorflow/workspace/images/train/IMG_20220202_121054_rotated270.jpg\n",
      "Tensorflow/workspace/images/train/Garuda Rosta Jagung Manis 100 g.jpg into Tensorflow/workspace/images/train/Garuda Rosta Jagung Manis 100 g_rotated90.jpg\n",
      "Tensorflow/workspace/images/train/Garuda Rosta Jagung Manis 100 g.jpg into Tensorflow/workspace/images/train/Garuda Rosta Jagung Manis 100 g_rotated180.jpg\n",
      "Tensorflow/workspace/images/train/Garuda Rosta Jagung Manis 100 g.jpg into Tensorflow/workspace/images/train/Garuda Rosta Jagung Manis 100 g_rotated270.jpg\n",
      "Tensorflow/workspace/images/train/IMG_20220202_120940.jpg into Tensorflow/workspace/images/train/IMG_20220202_120940_rotated90.jpg\n",
      "Tensorflow/workspace/images/train/IMG_20220202_120940.jpg into Tensorflow/workspace/images/train/IMG_20220202_120940_rotated180.jpg\n",
      "Tensorflow/workspace/images/train/IMG_20220202_120940.jpg into Tensorflow/workspace/images/train/IMG_20220202_120940_rotated270.jpg\n",
      "Tensorflow/workspace/images/train/20211214_130821.jpg into Tensorflow/workspace/images/train/20211214_130821_rotated90.jpg\n",
      "Tensorflow/workspace/images/train/20211214_130821.jpg into Tensorflow/workspace/images/train/20211214_130821_rotated180.jpg\n",
      "Tensorflow/workspace/images/train/20211214_130821.jpg into Tensorflow/workspace/images/train/20211214_130821_rotated270.jpg\n",
      "Tensorflow/workspace/images/train/IMG_20220202_121024.jpg into Tensorflow/workspace/images/train/IMG_20220202_121024_rotated90.jpg\n",
      "Tensorflow/workspace/images/train/IMG_20220202_121024.jpg into Tensorflow/workspace/images/train/IMG_20220202_121024_rotated180.jpg\n",
      "Tensorflow/workspace/images/train/IMG_20220202_121024.jpg into Tensorflow/workspace/images/train/IMG_20220202_121024_rotated270.jpg\n",
      "Tensorflow/workspace/images/train/Garuda Crunchy Potato Daging Sapi BBQ 14 g.jpg into Tensorflow/workspace/images/train/Garuda Crunchy Potato Daging Sapi BBQ 14 g_rotated90.jpg\n",
      "Tensorflow/workspace/images/train/Garuda Crunchy Potato Daging Sapi BBQ 14 g.jpg into Tensorflow/workspace/images/train/Garuda Crunchy Potato Daging Sapi BBQ 14 g_rotated180.jpg\n",
      "Tensorflow/workspace/images/train/Garuda Crunchy Potato Daging Sapi BBQ 14 g.jpg into Tensorflow/workspace/images/train/Garuda Crunchy Potato Daging Sapi BBQ 14 g_rotated270.jpg\n",
      "Tensorflow/workspace/images/train/Gery Saluut MlkstCklt Kelapa-105g.jpg into Tensorflow/workspace/images/train/Gery Saluut MlkstCklt Kelapa-105g_rotated90.jpg\n",
      "Tensorflow/workspace/images/train/Gery Saluut MlkstCklt Kelapa-105g.jpg into Tensorflow/workspace/images/train/Gery Saluut MlkstCklt Kelapa-105g_rotated180.jpg\n",
      "Tensorflow/workspace/images/train/Gery Saluut MlkstCklt Kelapa-105g.jpg into Tensorflow/workspace/images/train/Gery Saluut MlkstCklt Kelapa-105g_rotated270.jpg\n",
      "Tensorflow/workspace/images/train/20211214_130832.jpg into Tensorflow/workspace/images/train/20211214_130832_rotated90.jpg\n",
      "Tensorflow/workspace/images/train/20211214_130832.jpg into Tensorflow/workspace/images/train/20211214_130832_rotated180.jpg\n",
      "Tensorflow/workspace/images/train/20211214_130832.jpg into Tensorflow/workspace/images/train/20211214_130832_rotated270.jpg\n",
      "Tensorflow/workspace/images/train/Gery Saluut Malkist Sweet Cheese 110 g.jpg into Tensorflow/workspace/images/train/Gery Saluut Malkist Sweet Cheese 110 g_rotated90.jpg\n",
      "Tensorflow/workspace/images/train/Gery Saluut Malkist Sweet Cheese 110 g.jpg into Tensorflow/workspace/images/train/Gery Saluut Malkist Sweet Cheese 110 g_rotated180.jpg\n",
      "Tensorflow/workspace/images/train/Gery Saluut Malkist Sweet Cheese 110 g.jpg into Tensorflow/workspace/images/train/Gery Saluut Malkist Sweet Cheese 110 g_rotated270.jpg\n",
      "Tensorflow/workspace/images/train/IMG_20220202_121355.jpg into Tensorflow/workspace/images/train/IMG_20220202_121355_rotated90.jpg\n",
      "Tensorflow/workspace/images/train/IMG_20220202_121355.jpg into Tensorflow/workspace/images/train/IMG_20220202_121355_rotated180.jpg\n",
      "Tensorflow/workspace/images/train/IMG_20220202_121355.jpg into Tensorflow/workspace/images/train/IMG_20220202_121355_rotated270.jpg\n",
      "Tensorflow/workspace/images/train/20211210_143041.jpg into Tensorflow/workspace/images/train/20211210_143041_rotated90.jpg\n",
      "Tensorflow/workspace/images/train/20211210_143041.jpg into Tensorflow/workspace/images/train/20211210_143041_rotated180.jpg\n",
      "Tensorflow/workspace/images/train/20211210_143041.jpg into Tensorflow/workspace/images/train/20211210_143041_rotated270.jpg\n"
     ]
    }
   ],
   "source": [
    "from PIL import Image, ImageOps\n",
    "\n",
    "degrees = { 90, 180, 270 }\n",
    "\n",
    "for to_be_rotated_image_path in glob.glob(os.path.join(paths['IMAGE_PATH'], 'train') + '/*.jpg'):\n",
    "    for degree in degrees:\n",
    "        new_file_name = (os.path.split(to_be_rotated_image_path)[1]).replace(\".jpg\", \"_rotated{}.jpg\".format(degree))\n",
    "        rotated_image_path = os.path.join(os.path.split(to_be_rotated_image_path)[0], new_file_name)\n",
    "        print(\"{} into {}\".format(to_be_rotated_image_path, rotated_image_path))\n",
    "        img = Image.open(to_be_rotated_image_path)\n",
    "        img = ImageOps.exif_transpose(img)\n",
    "\n",
    "        rotate_img = img.rotate(degree, expand=True)\n",
    "#         rotate_img.show() \n",
    "        rotate_img.save(rotated_image_path)\n",
    "        \n"
   ]
  },
  {
   "cell_type": "markdown",
   "metadata": {
    "id": "OLU-rs_ipfDE"
   },
   "source": [
    "# 1. Download TF Models Pretrained Models from Tensorflow Model Zoo and Install TFOD"
   ]
  },
  {
   "cell_type": "code",
   "execution_count": null,
   "metadata": {},
   "outputs": [],
   "source": [
    "# https://www.tensorflow.org/install/source_windows"
   ]
  },
  {
   "cell_type": "code",
   "execution_count": null,
   "metadata": {
    "id": "K-Cmz2edpfDE",
    "scrolled": true
   },
   "outputs": [],
   "source": [
    "if os.name=='nt':\n",
    "    !pip install wget\n",
    "    import wget"
   ]
  },
  {
   "cell_type": "code",
   "execution_count": null,
   "metadata": {
    "id": "iA1DIq5OpfDE"
   },
   "outputs": [],
   "source": [
    "if not os.path.exists(os.path.join(paths['APIMODEL_PATH'], 'research', 'object_detection')):\n",
    "    !git clone https://github.com/tensorflow/models {paths['APIMODEL_PATH']}"
   ]
  },
  {
   "cell_type": "code",
   "execution_count": null,
   "metadata": {},
   "outputs": [],
   "source": [
    "!python --version"
   ]
  },
  {
   "cell_type": "code",
   "execution_count": null,
   "metadata": {
    "id": "rJjMHbnDs3Tv"
   },
   "outputs": [],
   "source": [
    "# Install Tensorflow Object Detection \n",
    "if os.name=='posix':  \n",
    "    !apt-get install protobuf-compiler\n",
    "    !cd Tensorflow/models/research && protoc object_detection/protos/*.proto --python_out=. && cp object_detection/packages/tf2/setup.py . && python -m pip install . \n",
    "    \n",
    "if os.name=='nt':\n",
    "    url=\"https://github.com/protocolbuffers/protobuf/releases/download/v3.15.6/protoc-3.15.6-win64.zip\"\n",
    "    wget.download(url)\n",
    "    !move protoc-3.15.6-win64.zip {paths['PROTOC_PATH']}\n",
    "    !cd {paths['PROTOC_PATH']} && tar -xf protoc-3.15.6-win64.zip\n",
    "    os.environ['PATH'] += os.pathsep + os.path.abspath(os.path.join(paths['PROTOC_PATH'], 'bin'))   \n",
    "    !cd Tensorflow/models/research && protoc object_detection/protos/*.proto --python_out=. && copy object_detection\\\\packages\\\\tf2\\\\setup.py setup.py && python setup.py build && python setup.py install\n",
    "    !cd Tensorflow/models/research/slim && pip install -e . "
   ]
  },
  {
   "cell_type": "code",
   "execution_count": null,
   "metadata": {
    "scrolled": true
   },
   "outputs": [],
   "source": [
    "VERIFICATION_SCRIPT = os.path.join(paths['APIMODEL_PATH'], 'research', 'object_detection', 'builders', 'model_builder_tf2_test.py')\n",
    "# Verify Installation\n",
    "!python {VERIFICATION_SCRIPT}"
   ]
  },
  {
   "cell_type": "code",
   "execution_count": null,
   "metadata": {},
   "outputs": [],
   "source": [
    "!pip install tensorflow --upgrade"
   ]
  },
  {
   "cell_type": "code",
   "execution_count": null,
   "metadata": {},
   "outputs": [],
   "source": [
    "!pip uninstall protobuf matplotlib -y\n",
    "!pip install protobuf matplotlib==3.2"
   ]
  },
  {
   "cell_type": "code",
   "execution_count": null,
   "metadata": {},
   "outputs": [],
   "source": [
    "import object_detection"
   ]
  },
  {
   "cell_type": "code",
   "execution_count": null,
   "metadata": {
    "scrolled": true
   },
   "outputs": [],
   "source": [
    "!pip list"
   ]
  },
  {
   "cell_type": "code",
   "execution_count": null,
   "metadata": {
    "colab": {
     "base_uri": "https://localhost:8080/"
    },
    "id": "csofht2npfDE",
    "outputId": "ff5471b2-bed2-43f2-959c-327a706527b6"
   },
   "outputs": [],
   "source": [
    "if os.name =='posix':\n",
    "    !wget {PRETRAINED_MODEL_URL}\n",
    "    !mv {PRETRAINED_MODEL_NAME+'.tar.gz'} {paths['PRETRAINED_MODEL_PATH']}\n",
    "    !cd {paths['PRETRAINED_MODEL_PATH']} && tar -zxvf {PRETRAINED_MODEL_NAME+'.tar.gz'}\n",
    "if os.name == 'nt':\n",
    "    wget.download(PRETRAINED_MODEL_URL)\n",
    "    !move {PRETRAINED_MODEL_NAME+'.tar.gz'} {paths['PRETRAINED_MODEL_PATH']}\n",
    "    !cd {paths['PRETRAINED_MODEL_PATH']} && tar -zxvf {PRETRAINED_MODEL_NAME+'.tar.gz'}"
   ]
  },
  {
   "cell_type": "markdown",
   "metadata": {
    "id": "M5KJTnkfpfDC"
   },
   "source": [
    "# 2. Create Label Map"
   ]
  },
  {
   "cell_type": "code",
   "execution_count": null,
   "metadata": {
    "id": "p1BVDWo7pfDC"
   },
   "outputs": [],
   "source": [
    "import os\n",
    "import glob\n",
    "import pandas as pd\n",
    "import io\n",
    "import xml.etree.ElementTree as ET\n",
    "import argparse\n",
    "\n",
    "class_names = []\n",
    "for xml_file in glob.glob(os.path.join(paths['IMAGE_PATH'], 'train') + '/*.xml'):\n",
    "    tree = ET.parse(xml_file)\n",
    "    root = tree.getroot()\n",
    "    for member in root.findall('object'):\n",
    "        class_names.append(member[0].text)\n",
    "\n",
    "classes = list(set(class_names))\n",
    "classes.sort()\n",
    "\n",
    "labels = []\n",
    "for index, class_name in enumerate(classes, start=1):\n",
    "    labels.append({'name': class_name, 'id': index})\n",
    "    \n",
    "# do hardcode way\n",
    "# labels = [{'name':'ThumbsUp', 'id':1}, {'name':'ThumbsDown', 'id':2}, {'name':'ThankYou', 'id':3}, {'name':'LiveLong', 'id':4}]\n",
    "\n",
    "with open(files['LABELMAP'], 'w') as f:\n",
    "    for label in labels:\n",
    "        f.write('item { \\n')\n",
    "        f.write('\\tname:\\'{}\\'\\n'.format(label['name']))\n",
    "        f.write('\\tid:{}\\n'.format(label['id']))\n",
    "        f.write('}\\n')"
   ]
  },
  {
   "cell_type": "markdown",
   "metadata": {
    "id": "C88zyVELpfDC"
   },
   "source": [
    "# 3. Create TF records"
   ]
  },
  {
   "cell_type": "code",
   "execution_count": null,
   "metadata": {
    "colab": {
     "base_uri": "https://localhost:8080/"
    },
    "id": "kvf5WccwrFGq",
    "outputId": "49902aeb-0bd7-4298-e1a0-5b4a64eb2064"
   },
   "outputs": [],
   "source": [
    "# OPTIONAL IF RUNNING ON COLAB\n",
    "ARCHIVE_FILES = os.path.join(paths['IMAGE_PATH'], 'archive.tar.gz')\n",
    "if os.path.exists(ARCHIVE_FILES):\n",
    "  !tar -zxvf {ARCHIVE_FILES}"
   ]
  },
  {
   "cell_type": "code",
   "execution_count": null,
   "metadata": {
    "colab": {
     "base_uri": "https://localhost:8080/"
    },
    "id": "KWpb_BVUpfDD",
    "outputId": "56ce2a3f-3933-4ee6-8a9d-d5ec65f7d73c"
   },
   "outputs": [],
   "source": [
    "if not os.path.exists(files['TF_RECORD_SCRIPT']):\n",
    "    !git clone https://github.com/nicknochnack/GenerateTFRecord {paths['SCRIPTS_PATH']}"
   ]
  },
  {
   "cell_type": "code",
   "execution_count": null,
   "metadata": {
    "colab": {
     "base_uri": "https://localhost:8080/"
    },
    "id": "UPFToGZqpfDD",
    "outputId": "0ebb456f-aadc-4a1f-96e6-fbfec1923e1c"
   },
   "outputs": [],
   "source": [
    "!python {files['TF_RECORD_SCRIPT']} -x {os.path.join(paths['IMAGE_PATH'], 'train')} -l {files['LABELMAP']} -o {os.path.join(paths['ANNOTATION_PATH'], 'train.record')} \n",
    "!python {files['TF_RECORD_SCRIPT']} -x {os.path.join(paths['IMAGE_PATH'], 'test')} -l {files['LABELMAP']} -o {os.path.join(paths['ANNOTATION_PATH'], 'test.record')} "
   ]
  },
  {
   "cell_type": "markdown",
   "metadata": {
    "id": "qT4QU7pLpfDE"
   },
   "source": [
    "# 4. Copy Model Config to Training Folder"
   ]
  },
  {
   "cell_type": "code",
   "execution_count": null,
   "metadata": {
    "id": "cOjuTFbwpfDF"
   },
   "outputs": [],
   "source": [
    "if os.name =='posix':\n",
    "    !cp {os.path.join(paths['PRETRAINED_MODEL_PATH'], PRETRAINED_MODEL_NAME, 'pipeline.config')} {os.path.join(paths['CHECKPOINT_PATH'])}\n",
    "if os.name == 'nt':\n",
    "    !copy {os.path.join(paths['PRETRAINED_MODEL_PATH'], PRETRAINED_MODEL_NAME, 'pipeline.config')} {os.path.join(paths['CHECKPOINT_PATH'])}"
   ]
  },
  {
   "cell_type": "markdown",
   "metadata": {
    "id": "Ga8gpNslpfDF"
   },
   "source": [
    "# 5. Update Config For Transfer Learning"
   ]
  },
  {
   "cell_type": "code",
   "execution_count": null,
   "metadata": {
    "id": "Z9hRrO_ppfDF"
   },
   "outputs": [],
   "source": [
    "import tensorflow as tf\n",
    "from object_detection.utils import config_util\n",
    "from object_detection.protos import pipeline_pb2\n",
    "from google.protobuf import text_format"
   ]
  },
  {
   "cell_type": "code",
   "execution_count": null,
   "metadata": {
    "id": "c2A0mn4ipfDF"
   },
   "outputs": [],
   "source": [
    "config = config_util.get_configs_from_pipeline_file(files['PIPELINE_CONFIG'])"
   ]
  },
  {
   "cell_type": "code",
   "execution_count": null,
   "metadata": {
    "colab": {
     "base_uri": "https://localhost:8080/"
    },
    "id": "uQA13-afpfDF",
    "outputId": "907496a4-a39d-4b13-8c2c-e5978ecb1f10"
   },
   "outputs": [],
   "source": [
    "config"
   ]
  },
  {
   "cell_type": "code",
   "execution_count": null,
   "metadata": {
    "id": "9vK5lotDpfDF"
   },
   "outputs": [],
   "source": [
    "pipeline_config = pipeline_pb2.TrainEvalPipelineConfig()\n",
    "with tf.io.gfile.GFile(files['PIPELINE_CONFIG'], \"r\") as f:                                                                                                                                                                                                                     \n",
    "    proto_str = f.read()                                                                                                                                                                                                                                          \n",
    "    text_format.Merge(proto_str, pipeline_config)  "
   ]
  },
  {
   "cell_type": "code",
   "execution_count": null,
   "metadata": {
    "id": "rP43Ph0JpfDG"
   },
   "outputs": [],
   "source": [
    "pipeline_config.model.ssd.num_classes = len(labels)\n",
    "pipeline_config.train_config.batch_size = 4\n",
    "pipeline_config.train_config.fine_tune_checkpoint = os.path.join(paths['PRETRAINED_MODEL_PATH'], PRETRAINED_MODEL_NAME, 'checkpoint', 'ckpt-0')\n",
    "pipeline_config.train_config.fine_tune_checkpoint_type = \"detection\"\n",
    "pipeline_config.train_config.use_bfloat16 = False\n",
    "pipeline_config.train_input_reader.label_map_path= files['LABELMAP']\n",
    "pipeline_config.train_input_reader.tf_record_input_reader.input_path[:] = [os.path.join(paths['ANNOTATION_PATH'], 'train.record')]\n",
    "pipeline_config.eval_input_reader[0].label_map_path = files['LABELMAP']\n",
    "pipeline_config.eval_input_reader[0].tf_record_input_reader.input_path[:] = [os.path.join(paths['ANNOTATION_PATH'], 'test.record')]"
   ]
  },
  {
   "cell_type": "code",
   "execution_count": null,
   "metadata": {
    "id": "oJvfgwWqpfDG"
   },
   "outputs": [],
   "source": [
    "config_text = text_format.MessageToString(pipeline_config)                                                                                                                                                                                                        \n",
    "with tf.io.gfile.GFile(files['PIPELINE_CONFIG'], \"wb\") as f:                                                                                                                                                                                                                     \n",
    "    f.write(config_text)   "
   ]
  },
  {
   "cell_type": "markdown",
   "metadata": {
    "id": "Zr3ON7xMpfDG"
   },
   "source": [
    "# 6. Train the model"
   ]
  },
  {
   "cell_type": "code",
   "execution_count": null,
   "metadata": {
    "id": "B-Y2UQmQpfDG"
   },
   "outputs": [],
   "source": [
    "TRAINING_SCRIPT = os.path.join(paths['APIMODEL_PATH'], 'research', 'object_detection', 'model_main_tf2.py')"
   ]
  },
  {
   "cell_type": "code",
   "execution_count": null,
   "metadata": {
    "id": "jMP2XDfQpfDH"
   },
   "outputs": [],
   "source": [
    "command = \"python {} --model_dir={} --pipeline_config_path={} --num_train_steps=10000\".format(TRAINING_SCRIPT, paths['CHECKPOINT_PATH'],files['PIPELINE_CONFIG'])"
   ]
  },
  {
   "cell_type": "code",
   "execution_count": null,
   "metadata": {
    "colab": {
     "base_uri": "https://localhost:8080/"
    },
    "id": "A4OXXi-ApfDH",
    "outputId": "117a0e83-012b-466e-b7a6-ccaa349ac5ab"
   },
   "outputs": [],
   "source": [
    "print(command)"
   ]
  },
  {
   "cell_type": "code",
   "execution_count": null,
   "metadata": {
    "colab": {
     "base_uri": "https://localhost:8080/"
    },
    "id": "i3ZsJR-qpfDH",
    "outputId": "cabec5e1-45e6-4f2f-d9cf-297d9c1d0225"
   },
   "outputs": [],
   "source": [
    "!{command}"
   ]
  },
  {
   "cell_type": "markdown",
   "metadata": {
    "id": "4_YRZu7npfDH"
   },
   "source": [
    "# 7. Evaluate the Model"
   ]
  },
  {
   "cell_type": "code",
   "execution_count": null,
   "metadata": {
    "id": "80L7-fdPpfDH"
   },
   "outputs": [],
   "source": [
    "command = \"python {} --model_dir={} --pipeline_config_path={} --checkpoint_dir={}\".format(TRAINING_SCRIPT, paths['CHECKPOINT_PATH'],files['PIPELINE_CONFIG'], paths['CHECKPOINT_PATH'])\n"
   ]
  },
  {
   "cell_type": "code",
   "execution_count": null,
   "metadata": {
    "colab": {
     "base_uri": "https://localhost:8080/"
    },
    "id": "lYsgEPx9pfDH",
    "outputId": "8632d48b-91d2-45d9-bcb8-c1b172bf6eed"
   },
   "outputs": [],
   "source": [
    "print(command)"
   ]
  },
  {
   "cell_type": "code",
   "execution_count": null,
   "metadata": {
    "id": "lqTV2jGBpfDH"
   },
   "outputs": [],
   "source": [
    "!{command}"
   ]
  },
  {
   "cell_type": "markdown",
   "metadata": {
    "id": "orvRk02UpfDI"
   },
   "source": [
    "# 8. Load Train Model From Checkpoint"
   ]
  },
  {
   "cell_type": "code",
   "execution_count": null,
   "metadata": {
    "id": "8TYk4_oIpfDI"
   },
   "outputs": [],
   "source": [
    "import os\n",
    "import tensorflow as tf\n",
    "from object_detection.utils import label_map_util\n",
    "from object_detection.utils import visualization_utils as viz_utils\n",
    "from object_detection.builders import model_builder\n",
    "from object_detection.utils import config_util"
   ]
  },
  {
   "cell_type": "code",
   "execution_count": null,
   "metadata": {
    "id": "tDnQg-cYpfDI"
   },
   "outputs": [],
   "source": [
    "# Load pipeline config and build a detection model\n",
    "configs = config_util.get_configs_from_pipeline_file(files['PIPELINE_CONFIG'])\n",
    "detection_model = model_builder.build(model_config=configs['model'], is_training=False)\n",
    "\n",
    "# Restore checkpoint\n",
    "ckpt = tf.compat.v2.train.Checkpoint(model=detection_model)\n",
    "ckpt.restore(os.path.join(paths['CHECKPOINT_PATH'], 'ckpt-11')).expect_partial()\n",
    "\n",
    "@tf.function\n",
    "def detect_fn(image):\n",
    "    image, shapes = detection_model.preprocess(image)\n",
    "    prediction_dict = detection_model.predict(image, shapes)\n",
    "    detections = detection_model.postprocess(prediction_dict, shapes)\n",
    "    return detections"
   ]
  },
  {
   "cell_type": "markdown",
   "metadata": {
    "id": "0EmsmbBZpfDI"
   },
   "source": [
    "# 9. Detect from an Image"
   ]
  },
  {
   "cell_type": "code",
   "execution_count": null,
   "metadata": {
    "id": "Y_MKiuZ4pfDI"
   },
   "outputs": [],
   "source": [
    "import cv2 \n",
    "import numpy as np\n",
    "from matplotlib import pyplot as plt\n",
    "%matplotlib inline"
   ]
  },
  {
   "cell_type": "code",
   "execution_count": null,
   "metadata": {
    "id": "cBDbIhNapfDI"
   },
   "outputs": [],
   "source": [
    "category_index = label_map_util.create_category_index_from_labelmap(files['LABELMAP'])"
   ]
  },
  {
   "cell_type": "code",
   "execution_count": null,
   "metadata": {
    "id": "Lx3crOhOzITB"
   },
   "outputs": [],
   "source": [
    "IMAGE_PATH = os.path.join(paths['IMAGE_PATH'], 'test', '20211210_130341.jpg')"
   ]
  },
  {
   "cell_type": "code",
   "execution_count": null,
   "metadata": {},
   "outputs": [],
   "source": [
    "print(IMAGE_PATH)"
   ]
  },
  {
   "cell_type": "code",
   "execution_count": null,
   "metadata": {},
   "outputs": [],
   "source": [
    "def return_coordinates(\n",
    "    image,\n",
    "    boxes,\n",
    "    classes,\n",
    "    scores,\n",
    "    category_index,\n",
    "    instance_masks=None,\n",
    "    instance_boundaries=None,\n",
    "    keypoints=None,\n",
    "    use_normalized_coordinates=False,\n",
    "    max_boxes_to_draw=20,\n",
    "    min_score_thresh=.5,\n",
    "    agnostic_mode=False,\n",
    "    line_thickness=4,\n",
    "    groundtruth_box_visualization_color='black',\n",
    "    skip_scores=False,\n",
    "    skip_labels=False):\n",
    "  # Create a display string (and color) for every box location, group any boxes\n",
    "  # that correspond to the same location.\n",
    "  box_to_display_str_map = collections.defaultdict(list)\n",
    "  box_to_color_map = collections.defaultdict(str)\n",
    "  box_to_instance_masks_map = {}\n",
    "  box_to_instance_boundaries_map = {}\n",
    "  box_to_score_map = {}\n",
    "  box_to_keypoints_map = collections.defaultdict(list)\n",
    "  if not max_boxes_to_draw:\n",
    "    max_boxes_to_draw = boxes.shape[0]\n",
    "  for i in range(min(max_boxes_to_draw, boxes.shape[0])):\n",
    "    if scores is None or scores[i] > min_score_thresh:\n",
    "      box = tuple(boxes[i].tolist())\n",
    "      if instance_masks is not None:\n",
    "        box_to_instance_masks_map[box] = instance_masks[i]\n",
    "      if instance_boundaries is not None:\n",
    "        box_to_instance_boundaries_map[box] = instance_boundaries[i]\n",
    "      if keypoints is not None:\n",
    "        box_to_keypoints_map[box].extend(keypoints[i])\n",
    "      if scores is None:\n",
    "        box_to_color_map[box] = groundtruth_box_visualization_color\n",
    "      else:\n",
    "        display_str = ''\n",
    "        if not skip_labels:\n",
    "          if not agnostic_mode:\n",
    "            if classes[i] in category_index.keys():\n",
    "              class_name = category_index[classes[i]]['name']\n",
    "            else:\n",
    "              class_name = 'N/A'\n",
    "            display_str = str(class_name)\n",
    "        if not skip_scores:\n",
    "          if not display_str:\n",
    "            display_str = '{}%'.format(int(100*scores[i]))\n",
    "          else:\n",
    "            display_str = '{}: {}%'.format(display_str, int(100*scores[i]))\n",
    "        box_to_display_str_map[box].append(display_str)\n",
    "        box_to_score_map[box] = scores[i]\n",
    "        if agnostic_mode:\n",
    "          box_to_color_map[box] = 'DarkOrange'\n",
    "        else:\n",
    "          box_to_color_map[box] = STANDARD_COLORS[\n",
    "              classes[i] % len(STANDARD_COLORS)]\n",
    "\n",
    "  # Draw all boxes onto image.\n",
    "  coordinates_list = []\n",
    "  counter_for = 0\n",
    "  for box, color in box_to_color_map.items():\n",
    "    ymin, xmin, ymax, xmax = box\n",
    "    height, width, channels = image.shape\n",
    "    ymin = int(ymin*height)\n",
    "    ymax = int(ymax*height)\n",
    "    xmin = int(xmin*width)\n",
    "    xmax = int(xmax*width)\n",
    "    coordinates_list.append([ymin, ymax, xmin, xmax, (box_to_score_map[box]*100)])\n",
    "    counter_for = counter_for + 1\n",
    "\n",
    "  return coordinates_list"
   ]
  },
  {
   "cell_type": "code",
   "execution_count": null,
   "metadata": {
    "colab": {
     "base_uri": "https://localhost:8080/",
     "height": 269
    },
    "id": "Tpzn1SMry1yK",
    "outputId": "c392a2c5-10fe-4fc4-9998-a1d4c7db2bd3"
   },
   "outputs": [],
   "source": [
    "img = cv2.imread(IMAGE_PATH)\n",
    "image_np = np.array(img)\n",
    "\n",
    "input_tensor = tf.convert_to_tensor(np.expand_dims(image_np, 0), dtype=tf.float32)\n",
    "detections = detect_fn(input_tensor)\n",
    "\n",
    "num_detections = int(detections.pop('num_detections'))\n",
    "detections = {key: value[0, :num_detections].numpy()\n",
    "              for key, value in detections.items()}\n",
    "detections['num_detections'] = num_detections\n",
    "\n",
    "# detection_classes should be ints.\n",
    "detections['detection_classes'] = detections['detection_classes'].astype(np.int64)\n",
    "\n",
    "label_id_offset = 1\n",
    "image_np_with_detections = image_np.copy()\n",
    "\n",
    "viz_utils.visualize_boxes_and_labels_on_image_array(\n",
    "            image_np_with_detections,\n",
    "            detections['detection_boxes'],\n",
    "            detections['detection_classes']+label_id_offset,\n",
    "            detections['detection_scores'],\n",
    "            category_index,\n",
    "            use_normalized_coordinates=True,\n",
    "            max_boxes_to_draw=100,\n",
    "            min_score_thresh=.1,\n",
    "            agnostic_mode=False)\n",
    "\n",
    "print(detections['detection_scores'])\n",
    "\n",
    "plt.figure(figsize = (40, 20))\n",
    "plt.imshow(cv2.cvtColor(image_np_with_detections, cv2.COLOR_BGR2RGB))\n",
    "plt.show()"
   ]
  },
  {
   "cell_type": "markdown",
   "metadata": {
    "id": "IsNAaYAo0WVL"
   },
   "source": [
    "# 10. Real Time Detections from your Webcam"
   ]
  },
  {
   "cell_type": "code",
   "execution_count": null,
   "metadata": {},
   "outputs": [],
   "source": [
    "!pip uninstall opencv-python-headless -y"
   ]
  },
  {
   "cell_type": "code",
   "execution_count": null,
   "metadata": {
    "id": "o_grs6OGpfDJ"
   },
   "outputs": [],
   "source": [
    "cap = cv2.VideoCapture(0)\n",
    "width = int(cap.get(cv2.CAP_PROP_FRAME_WIDTH))\n",
    "height = int(cap.get(cv2.CAP_PROP_FRAME_HEIGHT))\n",
    "\n",
    "while cap.isOpened(): \n",
    "    ret, frame = cap.read()\n",
    "    image_np = np.array(frame)\n",
    "    \n",
    "    input_tensor = tf.convert_to_tensor(np.expand_dims(image_np, 0), dtype=tf.float32)\n",
    "    detections = detect_fn(input_tensor)\n",
    "    \n",
    "    num_detections = int(detections.pop('num_detections'))\n",
    "    detections = {key: value[0, :num_detections].numpy()\n",
    "                  for key, value in detections.items()}\n",
    "    detections['num_detections'] = num_detections\n",
    "\n",
    "    # detection_classes should be ints.\n",
    "    detections['detection_classes'] = detections['detection_classes'].astype(np.int64)\n",
    "\n",
    "    label_id_offset = 1\n",
    "    image_np_with_detections = image_np.copy()\n",
    "\n",
    "    viz_utils.visualize_boxes_and_labels_on_image_array(\n",
    "                image_np_with_detections,\n",
    "                detections['detection_boxes'],\n",
    "                detections['detection_classes']+label_id_offset,\n",
    "                detections['detection_scores'],\n",
    "                category_index,\n",
    "                use_normalized_coordinates=True,\n",
    "                max_boxes_to_draw=5,\n",
    "                min_score_thresh=.8,\n",
    "                agnostic_mode=False)\n",
    "\n",
    "    cv2.imshow('object detection',  cv2.resize(image_np_with_detections, (800, 600)))\n",
    "    \n",
    "    if cv2.waitKey(10) & 0xFF == ord('q'):\n",
    "        cap.release()\n",
    "        cv2.destroyAllWindows()\n",
    "        break"
   ]
  },
  {
   "cell_type": "markdown",
   "metadata": {
    "id": "rzlM4jt0pfDJ"
   },
   "source": [
    "# 10. Freezing the Graph"
   ]
  },
  {
   "cell_type": "code",
   "execution_count": null,
   "metadata": {
    "id": "n4olHB2npfDJ"
   },
   "outputs": [],
   "source": [
    "FREEZE_SCRIPT = os.path.join(paths['APIMODEL_PATH'], 'research', 'object_detection', 'exporter_main_v2.py ')"
   ]
  },
  {
   "cell_type": "code",
   "execution_count": null,
   "metadata": {
    "id": "0AjO93QDpfDJ"
   },
   "outputs": [],
   "source": [
    "command = \"python {} --input_type=image_tensor --pipeline_config_path={} --trained_checkpoint_dir={} --output_directory={}\".format(FREEZE_SCRIPT ,files['PIPELINE_CONFIG'], paths['CHECKPOINT_PATH'], paths['OUTPUT_PATH'])\n",
    "\n",
    "\n",
    "\n",
    "\n"
   ]
  },
  {
   "cell_type": "code",
   "execution_count": null,
   "metadata": {
    "colab": {
     "base_uri": "https://localhost:8080/"
    },
    "id": "F6Lsp3tCpfDJ",
    "outputId": "c3828529-bf06-4df5-d7f3-145890ec3edd"
   },
   "outputs": [],
   "source": [
    "print(command)"
   ]
  },
  {
   "cell_type": "code",
   "execution_count": null,
   "metadata": {
    "colab": {
     "base_uri": "https://localhost:8080/"
    },
    "id": "1Sw1ULgHpfDJ",
    "outputId": "6fd441e1-9fc9-4889-d072-3395c21e40b6"
   },
   "outputs": [],
   "source": [
    "!{command}"
   ]
  },
  {
   "cell_type": "code",
   "execution_count": null,
   "metadata": {},
   "outputs": [],
   "source": [
    "# FREEZE_SCRIPT = os.path.join(paths['APIMODEL_PATH'], 'research', 'object_detection', 'export_tflite_graph_tf2.py ')\n",
    "# command = \"python {} --pipeline_config_path={} --trained_checkpoint_dir={} --output_directory={}\".format(FREEZE_SCRIPT, files['PIPELINE_CONFIG'], paths['CHECKPOINT_PATH'], paths['OUTPUT_PATH_TFLITE'])\n",
    "\n",
    "FREEZE_SCRIPT = os.path.join(paths['APIMODEL_PATH'], 'research', 'object_detection', 'export_tflite_ssd_graph.py ')\n",
    "command = \"python {} --pipeline_config_path={} --trained_checkpoint_prefix={} --output_directory={}\".format(FREEZE_SCRIPT, files['PIPELINE_CONFIG'], paths['CHECKPOINT_PATH'], paths['OUTPUT_PATH_TFLITE'])\n",
    "print(command)\n",
    "\n",
    "# python3 object_detection/export_tflite_ssd_graph.py \\\n",
    "#   --pipeline_config_path=/home/ubuntu/ssd_mobilenet_v1_coco_2018_01_28/pipeline.config \\\n",
    "#   --trained_checkpoint_prefix=/home/ubuntu/ssd_mobilenet_v1_coco_2018_01_28/model.ckpt \\\n",
    "#   --output_directory=/tmp/tflite_graph \\\n",
    "#   --add_postprocessing_op=true"
   ]
  },
  {
   "cell_type": "code",
   "execution_count": null,
   "metadata": {},
   "outputs": [],
   "source": [
    "# tf.compat.v1.disable_eager_execution()\n",
    "!{command}"
   ]
  },
  {
   "cell_type": "markdown",
   "metadata": {
    "id": "wTPmdqaXpfDK"
   },
   "source": [
    "# 11. Conversion to TFJS"
   ]
  },
  {
   "cell_type": "code",
   "execution_count": null,
   "metadata": {
    "colab": {
     "base_uri": "https://localhost:8080/"
    },
    "id": "gZ6UzY_fpfDK",
    "outputId": "0c84722e-1c2b-4002-d857-80827ade828a",
    "scrolled": true
   },
   "outputs": [],
   "source": [
    "!pip install tensorflowjs"
   ]
  },
  {
   "cell_type": "code",
   "execution_count": null,
   "metadata": {
    "id": "0oxbVynHpfDK"
   },
   "outputs": [],
   "source": [
    "command = \"tensorflowjs_converter --input_format=tf_saved_model --output_node_names='detection_boxes,detection_classes,detection_features,detection_multiclass_scores,detection_scores,num_detections,raw_detection_boxes,raw_detection_scores' --output_format=tfjs_graph_model --signature_name=serving_default {} {}\".format(os.path.join(paths['OUTPUT_PATH'], 'saved_model'), paths['TFJS_PATH'])"
   ]
  },
  {
   "cell_type": "code",
   "execution_count": null,
   "metadata": {
    "colab": {
     "base_uri": "https://localhost:8080/"
    },
    "id": "DB2AGNmJpfDK",
    "outputId": "fbc9f747-f511-47e8-df8f-5ea65cef0374"
   },
   "outputs": [],
   "source": [
    "print(command)"
   ]
  },
  {
   "cell_type": "code",
   "execution_count": null,
   "metadata": {
    "colab": {
     "base_uri": "https://localhost:8080/"
    },
    "id": "K7rfT4-hpfDK",
    "outputId": "532707fd-6feb-4bc6-84a3-325b5d16303c"
   },
   "outputs": [],
   "source": [
    "!{command}"
   ]
  },
  {
   "cell_type": "code",
   "execution_count": null,
   "metadata": {
    "id": "o8_hm-itpfDK"
   },
   "outputs": [],
   "source": [
    "# Test Code: https://github.com/nicknochnack/RealTimeSignLanguageDetectionwithTFJS"
   ]
  },
  {
   "cell_type": "markdown",
   "metadata": {
    "id": "VtUw73FHpfDK"
   },
   "source": [
    "# 12. Conversion to TFLite"
   ]
  },
  {
   "cell_type": "code",
   "execution_count": null,
   "metadata": {
    "id": "XviMtewLpfDK"
   },
   "outputs": [],
   "source": [
    "TFLITE_SCRIPT = os.path.join(paths['APIMODEL_PATH'], 'research', 'object_detection', 'export_tflite_graph_tf2.py ')"
   ]
  },
  {
   "cell_type": "code",
   "execution_count": null,
   "metadata": {
    "id": "us86cjC4pfDL"
   },
   "outputs": [],
   "source": [
    "command = \"python {} --pipeline_config_path={} --trained_checkpoint_dir={} --output_directory={}\".format(TFLITE_SCRIPT ,files['PIPELINE_CONFIG'], paths['CHECKPOINT_PATH'], paths['TFLITE_PATH'])"
   ]
  },
  {
   "cell_type": "code",
   "execution_count": null,
   "metadata": {
    "colab": {
     "base_uri": "https://localhost:8080/"
    },
    "id": "n1r5YO3rpfDL",
    "outputId": "5fcdf7a4-eee2-4365-f1ca-1751968379ea"
   },
   "outputs": [],
   "source": [
    "print(command)"
   ]
  },
  {
   "cell_type": "code",
   "execution_count": null,
   "metadata": {
    "colab": {
     "base_uri": "https://localhost:8080/"
    },
    "id": "I-xWpHN8pfDL",
    "outputId": "7f6bacd8-d077-43b5-c131-5b081fba24a4"
   },
   "outputs": [],
   "source": [
    "!{command}"
   ]
  },
  {
   "cell_type": "code",
   "execution_count": null,
   "metadata": {
    "id": "iJfYMbN6pfDL"
   },
   "outputs": [],
   "source": [
    "FROZEN_TFLITE_PATH = os.path.join(paths['TFLITE_PATH'], 'saved_model')\n",
    "TFLITE_MODEL = os.path.join(paths['TFLITE_PATH'], 'saved_model', 'detect.tflite')"
   ]
  },
  {
   "cell_type": "code",
   "execution_count": null,
   "metadata": {},
   "outputs": [],
   "source": [
    "import tensorflow as tf\n",
    "\n",
    "converter = tf.lite.TFLiteConverter.from_saved_model(FROZEN_TFLITE_PATH)\n",
    "tflite_model = converter.convert()\n",
    "\n",
    "with open('model.tflite', 'wb') as f:\n",
    "    f.write(tflite_model)"
   ]
  },
  {
   "cell_type": "code",
   "execution_count": null,
   "metadata": {},
   "outputs": [],
   "source": [
    "command = \"tflite_convert \\\n",
    "--saved_model_dir={} \\\n",
    "--output_file={} \\\n",
    "--input_shapes=1,300,300,3 \\\n",
    "--input_arrays=normalized_input_image_tensor \\\n",
    "--output_arrays='TFLite_Detection_PostProcess','TFLite_Detection_PostProcess:1','TFLite_Detection_PostProcess:2','TFLite_Detection_PostProcess:3' \\\n",
    "--inference_type=FLOAT \\\n",
    "--allow_custom_ops\".format(FROZEN_TFLITE_PATH, TFLITE_MODEL)"
   ]
  },
  {
   "cell_type": "code",
   "execution_count": null,
   "metadata": {
    "colab": {
     "base_uri": "https://localhost:8080/"
    },
    "id": "E8GwUeoFpfDL",
    "outputId": "fac43ea4-cc85-471b-a362-e994b06fd583"
   },
   "outputs": [],
   "source": [
    "print(command)"
   ]
  },
  {
   "cell_type": "code",
   "execution_count": null,
   "metadata": {
    "colab": {
     "base_uri": "https://localhost:8080/"
    },
    "id": "Nbd7gqHMpfDL",
    "outputId": "7c8fe6d5-2415-4641-8548-39d425c202f7",
    "scrolled": true
   },
   "outputs": [],
   "source": [
    "!{command}"
   ]
  },
  {
   "cell_type": "markdown",
   "metadata": {
    "id": "VtUw73FHpfDK"
   },
   "source": [
    "# 12. Create TFLite Metadata"
   ]
  },
  {
   "cell_type": "code",
   "execution_count": null,
   "metadata": {},
   "outputs": [],
   "source": [
    "from tflite_support import flatbuffers\n",
    "from tflite_support import metadata as _metadata\n",
    "from tflite_support import metadata_schema_py_generated as _metadata_fb\n",
    "\n",
    "\"\"\" ... \"\"\"\n",
    "\"\"\"Creates the metadata for an image classifier.\"\"\"\n",
    "\n",
    "# Creates model info.\n",
    "model_meta = _metadata_fb.ModelMetadataT()\n",
    "model_meta.name = \"MobileNetV1 image classifier\"\n",
    "model_meta.description = (\"Identify the most prominent object in the \"\n",
    "                          \"image from a set of 1,001 categories such as \"\n",
    "                          \"trees, animals, food, vehicles, person etc.\")\n",
    "model_meta.version = \"v1\"\n",
    "model_meta.author = \"TensorFlow\"\n",
    "model_meta.license = (\"Apache License. Version 2.0 \"\n",
    "                      \"http://www.apache.org/licenses/LICENSE-2.0.\")\n",
    "\n",
    "# Creates input info.\n",
    "input_meta = _metadata_fb.TensorMetadataT()\n",
    "\n",
    "# Creates output info.\n",
    "output_meta = _metadata_fb.TensorMetadataT()\n",
    "\n",
    "input_meta.name = \"image\"\n",
    "input_meta.description = (\n",
    "    \"Input image to be classified. The expected image is {0} x {1}, with \"\n",
    "    \"three channels (red, blue, and green) per pixel. Each value in the \"\n",
    "    \"tensor is a single byte between 0 and 255.\".format(160, 160))\n",
    "input_meta.content = _metadata_fb.ContentT()\n",
    "input_meta.content.contentProperties = _metadata_fb.ImagePropertiesT()\n",
    "input_meta.content.contentProperties.colorSpace = (\n",
    "    _metadata_fb.ColorSpaceType.RGB)\n",
    "input_meta.content.contentPropertiesType = (\n",
    "    _metadata_fb.ContentProperties.ImageProperties)\n",
    "input_normalization = _metadata_fb.ProcessUnitT()\n",
    "input_normalization.optionsType = (\n",
    "    _metadata_fb.ProcessUnitOptions.NormalizationOptions)\n",
    "input_normalization.options = _metadata_fb.NormalizationOptionsT()\n",
    "input_normalization.options.mean = [127.5]\n",
    "input_normalization.options.std = [127.5]\n",
    "input_meta.processUnits = [input_normalization]\n",
    "input_stats = _metadata_fb.StatsT()\n",
    "input_stats.max = [255]\n",
    "input_stats.min = [0]\n",
    "input_meta.stats = input_stats\n",
    "\n",
    "# Creates output info.\n",
    "output_meta = _metadata_fb.TensorMetadataT()\n",
    "output_meta.name = \"probability\"\n",
    "output_meta.description = \"Probabilities of the 1001 labels respectively.\"\n",
    "output_meta.content = _metadata_fb.ContentT()\n",
    "output_meta.content.content_properties = _metadata_fb.FeaturePropertiesT()\n",
    "output_meta.content.contentPropertiesType = (\n",
    "    _metadata_fb.ContentProperties.FeatureProperties)\n",
    "output_stats = _metadata_fb.StatsT()\n",
    "output_stats.max = [1.0]\n",
    "output_stats.min = [0.0]\n",
    "output_meta.stats = output_stats\n",
    "label_file = _metadata_fb.AssociatedFileT()\n",
    "label_file.name = paths[\"TFLITE_MODEL_LABEL_PATH\"]\n",
    "label_file.description = \"Labels for objects that the model can recognize.\"\n",
    "label_file.type = _metadata_fb.AssociatedFileType.TENSOR_AXIS_LABELS\n",
    "output_meta.associatedFiles = [label_file]\n",
    "\n",
    "# Creates subgraph info.\n",
    "subgraph = _metadata_fb.SubGraphMetadataT()\n",
    "subgraph.inputTensorMetadata = [input_meta]\n",
    "subgraph.outputTensorMetadata = [output_meta]\n",
    "model_meta.subgraphMetadata = [subgraph]\n",
    "\n",
    "b = flatbuffers.Builder(0)\n",
    "b.Finish(\n",
    "    model_meta.Pack(b),\n",
    "    _metadata.MetadataPopulator.METADATA_FILE_IDENTIFIER)\n",
    "metadata_buf = b.Output()"
   ]
  },
  {
   "cell_type": "code",
   "execution_count": null,
   "metadata": {},
   "outputs": [],
   "source": [
    "print(paths[\"TFLITE_MODEL_PATH\"])\n",
    "populator = _metadata.MetadataPopulator.with_model_file(paths[\"TFLITE_MODEL_PATH\"])\n",
    "# populator.load_associated_files([paths[\"TFLITE_MODEL_LABEL_PATH\"]])\n",
    "\n",
    "print(\"Metadata populated:\")\n",
    "print(populator.get_metadata_json())\n",
    "print(\"Associated file(s) populated:\")\n",
    "print(populator.get_packed_associated_file_list())\n",
    "populator.populate()"
   ]
  },
  {
   "cell_type": "markdown",
   "metadata": {
    "id": "5NQqZRdA21Uc"
   },
   "source": [
    "# 13. Zip and Export Models "
   ]
  },
  {
   "cell_type": "code",
   "execution_count": null,
   "metadata": {
    "id": "tTVTGCQp2ZJJ"
   },
   "outputs": [],
   "source": [
    "!tar -czf models.tar.gz {paths['CHECKPOINT_PATH']}"
   ]
  },
  {
   "cell_type": "code",
   "execution_count": null,
   "metadata": {
    "colab": {
     "base_uri": "https://localhost:8080/"
    },
    "id": "whShhB0x3PYJ",
    "outputId": "b773201d-35c9-46a8-b893-4a76bd4d5d97"
   },
   "outputs": [],
   "source": [
    "from google.colab import drive\n",
    "drive.mount('/content/drive')"
   ]
  }
 ],
 "metadata": {
  "accelerator": "GPU",
  "colab": {
   "name": "3. Training and Detection.ipynb",
   "provenance": []
  },
  "kernelspec": {
   "display_name": "tfod",
   "language": "python",
   "name": "tfod"
  },
  "language_info": {
   "codemirror_mode": {
    "name": "ipython",
    "version": 3
   },
   "file_extension": ".py",
   "mimetype": "text/x-python",
   "name": "python",
   "nbconvert_exporter": "python",
   "pygments_lexer": "ipython3",
   "version": "3.8.9"
  }
 },
 "nbformat": 4,
 "nbformat_minor": 1
}
